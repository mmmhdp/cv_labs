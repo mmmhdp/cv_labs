{
 "cells": [
  {
   "cell_type": "code",
   "execution_count": 3,
   "id": "15d5c899-4955-47c4-9340-5c7293a253bc",
   "metadata": {},
   "outputs": [],
   "source": [
    "import cv2\n",
    "from matplotlib import pyplot as plt\n",
    "import numpy as np\n",
    "import pandas as pd"
   ]
  },
  {
   "cell_type": "markdown",
   "id": "c699525e-b182-405a-915f-7682c6bd83c0",
   "metadata": {},
   "source": [
    "# Задание:\n",
    "- Покадрово считаете видео и копите кадры в вектор (50 кадров например)\n",
    "- Для каждого пикселя (50 точек) ищем медиану, сохраняем в соответсвующую координату маски\n",
    "- 200*200 картинка отскейлить нужно, иначе долго считать будет\n",
    "- Сравнить текущий кадр с моделью фона - если сильно отличается передний план, иначе фон \n",
    "- Применить фильтр против шума можно готовую функцию"
   ]
  },
  {
   "cell_type": "code",
   "execution_count": 185,
   "id": "4586d985-d071-47c9-bb3b-824963400a75",
   "metadata": {},
   "outputs": [],
   "source": [
    "def is_different(background_frame, median_frame, barrier):\n",
    "    gray_current_frame = cv2.cvtColor(median_frame, cv2.COLOR_BGR2GRAY)\n",
    "    gray_background_model = cv2.cvtColor(background_frame, cv2.COLOR_BGR2GRAY)\n",
    "    \n",
    "    difference = cv2.absdiff(gray_current_frame, gray_background_model)\n",
    "    \n",
    "    _, thresholded = cv2.threshold(difference, 50, 255, cv2.THRESH_BINARY)\n",
    "    \n",
    "    foreground_pixels = cv2.countNonZero(thresholded)\n",
    "    \n",
    "    if foreground_pixels > barrier * (median_frame.shape[0] * median_frame.shape[1]):\n",
    "        return True\n",
    "    else:\n",
    "        return False\n",
    "        \n",
    "def read_stream_from_webcam():\n",
    "    cap = cv2.VideoCapture(0) \n",
    "    \n",
    "    img_buff = []\n",
    "    background = None\n",
    "    get_step = 0\n",
    "\n",
    "    try:\n",
    "        while(cap.isOpened()): \n",
    "            ret, frame = cap.read() \n",
    "            if ret is True:\n",
    "                \n",
    "                if get_step < STACK_GAP:\n",
    "                    width = 200\n",
    "                    height = 200\n",
    "                    \n",
    "                    dim = (width, height)\n",
    "                    resized = cv2.resize(frame, dim, interpolation=cv2.INTER_AREA)\n",
    "                    if get_step == 0:\n",
    "                        if background is None:\n",
    "                            print(\"back configured\")\n",
    "                            background = resized\n",
    "                    else:\n",
    "                        img_buff.append(resized)\n",
    "                    \n",
    "                    get_step += 1\n",
    "                    \n",
    "                else:\n",
    "                    median = np.median(img_buff, axis=0)\n",
    "                    clipped_median = np.clip(median, a_min=0, a_max=256)\n",
    "                    clipped_median = clipped_median.astype(np.uint8)\n",
    "                    \n",
    "                    if background is not None and is_different(background, clipped_median, barrier=0.25):\n",
    "                        clipped_median = cv2.fastNlMeansDenoisingColored(clipped_median, None, 10, 10, 7, 21)\n",
    "                        image = clipped_median\n",
    "\n",
    "                        hsv_image = cv2.cvtColor(image, cv2.COLOR_BGR2HSV)\n",
    "                        \n",
    "                        hsv_image[:, :, 0] = hsv_image[:, :, 0] * 10\n",
    "                        hsv_image[:, :, 1] = hsv_image[:, :, 1] * 2 \n",
    "                        hsv_image[:, :, 2] = hsv_image[:, :, 2] * 2 \n",
    "                        \n",
    "                        red_image = cv2.cvtColor(hsv_image, cv2.COLOR_HSV2BGR)\n",
    "\n",
    "                        image = red_image\n",
    "                        cv2.imshow('frame', image)\n",
    "                        \n",
    "                    else:\n",
    "                        background = cv2.fastNlMeansDenoisingColored(background, None, 10, 10, 7, 21)\n",
    "                        image = background\n",
    "                        hsv_image = cv2.cvtColor(image, cv2.COLOR_BGR2HSV)\n",
    "\n",
    "                        hsv_image[:, :, 0] = hsv_image[:, :, 0] * 1 \n",
    "                        hsv_image[:, :, 1] = hsv_image[:, :, 1] * 1 \n",
    "                        hsv_image[:, :, 2] = hsv_image[:, :, 2] * 1 \n",
    "                        \n",
    "                        green_image = cv2.cvtColor(hsv_image, cv2.COLOR_HSV2BGR)\n",
    "\n",
    "                        image = green_image\n",
    "                        cv2.imshow('frame', image) \n",
    "                    \n",
    "                    get_step = 0\n",
    "                    img_buff = []\n",
    "        \n",
    "                if cv2.waitKey(1) & 0xFF == ord('x'): \n",
    "                    break\n",
    "    finally:\n",
    "        cap.release() \n",
    "        cv2.destroyAllWindows()"
   ]
  },
  {
   "cell_type": "code",
   "execution_count": 186,
   "id": "fd57a1b6-7d1d-47ea-b951-f39fc44c30f9",
   "metadata": {},
   "outputs": [
    {
     "name": "stdout",
     "output_type": "stream",
     "text": [
      "back configured\n"
     ]
    }
   ],
   "source": [
    "GET_FRAME_GAP = 1\n",
    "STACK_GAP = 50\n",
    "\n",
    "read_stream_from_webcam()"
   ]
  },
  {
   "cell_type": "code",
   "execution_count": null,
   "id": "64900e67-2855-4f21-a329-b7027bb457bd",
   "metadata": {},
   "outputs": [],
   "source": []
  }
 ],
 "metadata": {
  "kernelspec": {
   "display_name": "Python 3 (ipykernel)",
   "language": "python",
   "name": "python3"
  },
  "language_info": {
   "codemirror_mode": {
    "name": "ipython",
    "version": 3
   },
   "file_extension": ".py",
   "mimetype": "text/x-python",
   "name": "python",
   "nbconvert_exporter": "python",
   "pygments_lexer": "ipython3",
   "version": "3.10.12"
  }
 },
 "nbformat": 4,
 "nbformat_minor": 5
}
